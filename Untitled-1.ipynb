{
 "cells": [
  {
   "cell_type": "code",
   "execution_count": 1,
   "metadata": {},
   "outputs": [
    {
     "name": "stdout",
     "output_type": "stream",
     "text": [
      "  Provincia  Horas de Sol   HSP\n",
      "0   Almería          3305  6.02\n",
      "1     Cádiz          3316  6.00\n",
      "2   Córdoba          3316  5.90\n",
      "3   Granada          3228  5.93\n",
      "4    Huelva          3527  6.02\n",
      "5      Jaén          3289  5.82\n",
      "6    Málaga          3248  5.82\n",
      "7   Sevilla          3526  5.98\n"
     ]
    }
   ],
   "source": [
    "import pandas as pd\n",
    "\n",
    "# Datos iniciales para Andalucía\n",
    "provincias = [\"Almería\", \"Cádiz\", \"Córdoba\", \"Granada\", \"Huelva\", \"Jaén\", \"Málaga\", \"Sevilla\"]\n",
    "horas_de_sol = [3305, 3316, 3316, 3228, 3527, 3289, 3248, 3526]\n",
    "hsp = [6.02, 6, 5.9, 5.93, 6.02, 5.82, 5.82, 5.98]\n",
    "\n",
    "# Crear un DataFrame con la información para Andalucía\n",
    "df_andalucia = pd.DataFrame({\n",
    "    'Provincia': provincias,\n",
    "    'Horas de Sol': horas_de_sol,\n",
    "    'HSP': hsp\n",
    "})\n",
    "\n",
    "# Guardar el DataFrame como un archivo CSV\n",
    "df_andalucia.to_csv('horas_de_sol_andalucia.csv', index=False)\n",
    "\n",
    "print(df_andalucia)\n"
   ]
  }
 ],
 "metadata": {
  "kernelspec": {
   "display_name": "Python 3",
   "language": "python",
   "name": "python3"
  },
  "language_info": {
   "codemirror_mode": {
    "name": "ipython",
    "version": 3
   },
   "file_extension": ".py",
   "mimetype": "text/x-python",
   "name": "python",
   "nbconvert_exporter": "python",
   "pygments_lexer": "ipython3",
   "version": "3.11.6"
  }
 },
 "nbformat": 4,
 "nbformat_minor": 2
}
